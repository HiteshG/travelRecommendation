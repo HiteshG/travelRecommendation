{
 "cells": [
  {
   "cell_type": "code",
   "execution_count": 20,
   "id": "e525c516",
   "metadata": {},
   "outputs": [],
   "source": [
    "# Import libraries\n",
    "\n",
    "import pandas as pd\n",
    "import nltk\n",
    "import numpy as np\n",
    "from nltk.tokenize import PunktSentenceTokenizer,RegexpTokenizer\n",
    "from nltk.corpus import stopwords\n",
    "from nltk.stem import WordNetLemmatizer\n",
    "from scipy import sparse\n",
    "from sklearn.metrics.pairwise import pairwise_distances, cosine_similarity\n",
    "import warnings\n",
    "from sklearn.feature_extraction.text import CountVectorizer, TfidfVectorizer\n",
    "from sklearn.feature_extraction import text\n",
    "import re"
   ]
  },
  {
   "cell_type": "code",
   "execution_count": 21,
   "id": "9aa747a2",
   "metadata": {},
   "outputs": [],
   "source": [
    "#to ignore deprecation warnings\n",
    "warnings.filterwarnings(\"ignore\", category=DeprecationWarning) "
   ]
  },
  {
   "cell_type": "raw",
   "id": "ab3ff10b",
   "metadata": {},
   "source": [
    "Processed_country have following column \n",
    "name, continent, review(scraped from website using scraping_data code),\n",
    "terrain(Excel Vlookup) - https://www.nationmaster.com/country-info/stats/Geography/Terrain#2013\n",
    "Zones(Excel Vlookup) - https://www.google.com/maps/d/edit?mid=1Npbd1eeMQad4S6xoBNBdZglMZux5oE6n&usp=sharing"
   ]
  },
  {
   "cell_type": "code",
   "execution_count": 22,
   "id": "448b4445",
   "metadata": {},
   "outputs": [],
   "source": [
    "df = pd.read_csv(\"./processed_country.csv\", encoding='latin-1')"
   ]
  },
  {
   "cell_type": "code",
   "execution_count": 23,
   "id": "3fd4f13d",
   "metadata": {},
   "outputs": [
    {
     "data": {
      "text/html": [
       "<div>\n",
       "<style scoped>\n",
       "    .dataframe tbody tr th:only-of-type {\n",
       "        vertical-align: middle;\n",
       "    }\n",
       "\n",
       "    .dataframe tbody tr th {\n",
       "        vertical-align: top;\n",
       "    }\n",
       "\n",
       "    .dataframe thead th {\n",
       "        text-align: right;\n",
       "    }\n",
       "</style>\n",
       "<table border=\"1\" class=\"dataframe\">\n",
       "  <thead>\n",
       "    <tr style=\"text-align: right;\">\n",
       "      <th></th>\n",
       "      <th>name</th>\n",
       "      <th>continent</th>\n",
       "      <th>review</th>\n",
       "      <th>terrain</th>\n",
       "      <th>Zones</th>\n",
       "    </tr>\n",
       "  </thead>\n",
       "  <tbody>\n",
       "    <tr>\n",
       "      <th>0</th>\n",
       "      <td>armenia</td>\n",
       "      <td>europe</td>\n",
       "      <td>It might be a small nation, but Armenia is bi...</td>\n",
       "      <td>Armenian Highland with mountains; little fores...</td>\n",
       "      <td>Non listed third country</td>\n",
       "    </tr>\n",
       "    <tr>\n",
       "      <th>1</th>\n",
       "      <td>czechrepublic</td>\n",
       "      <td>europe</td>\n",
       "      <td>A historic jewel at the heart of Europe, the ...</td>\n",
       "      <td>Bohemia in the west consists of rolling plains...</td>\n",
       "      <td>EU</td>\n",
       "    </tr>\n",
       "    <tr>\n",
       "      <th>2</th>\n",
       "      <td>chad</td>\n",
       "      <td>africa</td>\n",
       "      <td>From the natural wonders of the Sahara Desert ...</td>\n",
       "      <td>broad, arid plains in center, desert in north,...</td>\n",
       "      <td>Non listed third country</td>\n",
       "    </tr>\n",
       "    <tr>\n",
       "      <th>3</th>\n",
       "      <td>cyprus</td>\n",
       "      <td>europe</td>\n",
       "      <td>The legendary birthplace of Aphrodite, Cyprus ...</td>\n",
       "      <td>central plain with mountains to north and sout...</td>\n",
       "      <td>EU</td>\n",
       "    </tr>\n",
       "    <tr>\n",
       "      <th>4</th>\n",
       "      <td>ecuador</td>\n",
       "      <td>south-america</td>\n",
       "      <td>Tiny by South American standards, Ecuador is ...</td>\n",
       "      <td>coastal plain (costa), inter-Andean central hi...</td>\n",
       "      <td>Non listed third country</td>\n",
       "    </tr>\n",
       "  </tbody>\n",
       "</table>\n",
       "</div>"
      ],
      "text/plain": [
       "            name      continent  \\\n",
       "0        armenia         europe   \n",
       "1  czechrepublic         europe   \n",
       "2           chad         africa   \n",
       "3         cyprus         europe   \n",
       "4        ecuador  south-america   \n",
       "\n",
       "                                              review  \\\n",
       "0   It might be a small nation, but Armenia is bi...   \n",
       "1   A historic jewel at the heart of Europe, the ...   \n",
       "2  From the natural wonders of the Sahara Desert ...   \n",
       "3  The legendary birthplace of Aphrodite, Cyprus ...   \n",
       "4   Tiny by South American standards, Ecuador is ...   \n",
       "\n",
       "                                             terrain                     Zones  \n",
       "0  Armenian Highland with mountains; little fores...  Non listed third country  \n",
       "1  Bohemia in the west consists of rolling plains...                        EU  \n",
       "2  broad, arid plains in center, desert in north,...  Non listed third country  \n",
       "3  central plain with mountains to north and sout...                        EU  \n",
       "4  coastal plain (costa), inter-Andean central hi...  Non listed third country  "
      ]
     },
     "execution_count": 23,
     "metadata": {},
     "output_type": "execute_result"
    }
   ],
   "source": [
    "df.head()"
   ]
  },
  {
   "cell_type": "code",
   "execution_count": 28,
   "id": "d1cf9010",
   "metadata": {},
   "outputs": [
    {
     "data": {
      "text/plain": [
       "0       it  might  be  a  small  nation   but  armeni...\n",
       "1       a  historic  jewel  at  the  heart  of  europ...\n",
       "2      from  the  natural  wonders  of  the  sahara  ...\n",
       "3      the  legendary  birthplace  of  aphrodite   cy...\n",
       "4       tiny  by  south  american  standards   ecuado...\n",
       "                             ...                        \n",
       "192     if  it  were  an  authentic  taste  of  arabi...\n",
       "193    vast  lakes  and  wetlands   long  and  life  ...\n",
       "194    after  a  difficult  decade  or  so   stabilit...\n",
       "195    northern  ireland  distils  the  best  of  bri...\n",
       "196    guam  is  a  vibrant   tropical  paradise   co...\n",
       "Name: review, Length: 197, dtype: object"
      ]
     },
     "execution_count": 28,
     "metadata": {},
     "output_type": "execute_result"
    }
   ],
   "source": [
    "df[\"review\"].apply(lambda x: \" \".join(re.findall(\"[a-zA-Z]*\", x)).lower())"
   ]
  },
  {
   "cell_type": "code",
   "execution_count": 29,
   "id": "e89403a9",
   "metadata": {},
   "outputs": [],
   "source": [
    "# tokenize\n",
    "tokenizer = RegexpTokenizer(r'\\w+')\n",
    "df[\"tokenized_text\"] = df[\"review\"].apply(lambda row: tokenizer.tokenize(row))"
   ]
  },
  {
   "cell_type": "code",
   "execution_count": 30,
   "id": "40f57c23",
   "metadata": {},
   "outputs": [],
   "source": [
    "# lemmatize \n",
    "wnl = nltk.WordNetLemmatizer()"
   ]
  },
  {
   "cell_type": "code",
   "execution_count": 31,
   "id": "27317885",
   "metadata": {},
   "outputs": [],
   "source": [
    "def lem(lst):\n",
    "    list1=list()\n",
    "    for i in lst : \n",
    "        list1.append(wnl.lemmatize(i))\n",
    "    return list1"
   ]
  },
  {
   "cell_type": "code",
   "execution_count": 32,
   "id": "c229d873",
   "metadata": {},
   "outputs": [],
   "source": [
    "df[\"lemmatized_text\"]=df[\"tokenized_text\"].apply(lambda x : lem(x))"
   ]
  },
  {
   "cell_type": "code",
   "execution_count": 36,
   "id": "49f15ae8",
   "metadata": {},
   "outputs": [],
   "source": [
    "from sklearn.feature_extraction.text import TfidfVectorizer\n",
    "\n",
    "my_additional_stop_words = ['acute', 'good', 'great', 'really', 'just', 'nice', \n",
    "                            'like', 'day', 'beautiful', 'visit', 'time', 'don',\n",
    "                            'did', 'place', 'didn', 'did', 'tour', 'sydney','pm', 'the',\n",
    "                            'lot', '00', 'inside', 'doesn','going','mostly', 'origin',\n",
    "                            'right', '15']\n",
    "stop_words = text.ENGLISH_STOP_WORDS.union(my_additional_stop_words)\n",
    "\n",
    "\n",
    "tfidf_vectorizer = TfidfVectorizer(stop_words=stop_words, strip_accents='unicode', norm='l2',lowercase=True)"
   ]
  },
  {
   "cell_type": "code",
   "execution_count": 37,
   "id": "5c10b411",
   "metadata": {},
   "outputs": [],
   "source": [
    "X=[\" \".join(text) for text in df[\"lemmatized_text\"].values]\n",
    "tfidf_matrix=tfidf_vectorizer.fit_transform(X)"
   ]
  },
  {
   "cell_type": "code",
   "execution_count": 38,
   "id": "faa08e0e",
   "metadata": {},
   "outputs": [
    {
     "data": {
      "text/plain": [
       "(197, 8195)"
      ]
     },
     "execution_count": 38,
     "metadata": {},
     "output_type": "execute_result"
    }
   ],
   "source": [
    "tfidf_matrix.shape"
   ]
  },
  {
   "cell_type": "code",
   "execution_count": 39,
   "id": "525363db",
   "metadata": {},
   "outputs": [],
   "source": [
    "similarity_matrix = cosine_similarity(tfidf_matrix, tfidf_matrix)"
   ]
  },
  {
   "cell_type": "code",
   "execution_count": 40,
   "id": "8383cf23",
   "metadata": {},
   "outputs": [],
   "source": [
    "# Create a pandas series with movie titles as indices and indices as series values \n",
    "indices = pd.Series(df.index, index=df['name']).drop_duplicates()"
   ]
  },
  {
   "cell_type": "code",
   "execution_count": 41,
   "id": "cfa25fa3",
   "metadata": {},
   "outputs": [
    {
     "data": {
      "text/plain": [
       "name\n",
       "armenia              0\n",
       "czechrepublic        1\n",
       "chad                 2\n",
       "cyprus               3\n",
       "ecuador              4\n",
       "                  ... \n",
       "yemen              192\n",
       "zambia             193\n",
       "zimbabwe           194\n",
       "northernireland    195\n",
       "guam               196\n",
       "Length: 197, dtype: int64"
      ]
     },
     "execution_count": 41,
     "metadata": {},
     "output_type": "execute_result"
    }
   ],
   "source": [
    "indices"
   ]
  },
  {
   "cell_type": "code",
   "execution_count": 51,
   "id": "f3296b1b",
   "metadata": {},
   "outputs": [],
   "source": [
    "title='thailand'\n",
    "\n",
    "# Get the index corresponding to movie title\n",
    "index = indices[title]\n",
    "\n",
    "# Get the cosine similarity scores \n",
    "similarity_scores = list(enumerate(similarity_matrix[index]))\n",
    "\n",
    "\n",
    "# Sort the similarity scores in descending order\n",
    "sorted_similarity_scores = sorted(similarity_scores, key=lambda x: x[1], reverse=True)\n",
    "\n",
    "\n",
    "# Top-10 most similar movie scores\n",
    "top_10_movies_scores = sorted_similarity_scores[1:11]"
   ]
  },
  {
   "cell_type": "code",
   "execution_count": 52,
   "id": "15c332b6",
   "metadata": {},
   "outputs": [
    {
     "data": {
      "text/plain": [
       "95            laos\n",
       "36        cambodia\n",
       "107       malaysia\n",
       "139    philippines\n",
       "121        myanmar\n",
       "80       indonesia\n",
       "108       maldives\n",
       "68           ghana\n",
       "41            fiji\n",
       "56        dominica\n",
       "Name: name, dtype: object"
      ]
     },
     "execution_count": 52,
     "metadata": {},
     "output_type": "execute_result"
    }
   ],
   "source": [
    "# Get movie indices\n",
    "top_10_movie_indices=[]\n",
    "for i in top_10_movies_scores:\n",
    "    top_10_movie_indices.append(i[0])\n",
    "    \n",
    "# Top 10 recommende movie\n",
    "df['name'].iloc[top_10_movie_indices]"
   ]
  },
  {
   "cell_type": "code",
   "execution_count": null,
   "id": "c5a62fef",
   "metadata": {},
   "outputs": [],
   "source": []
  }
 ],
 "metadata": {
  "kernelspec": {
   "display_name": "Python 3 (ipykernel)",
   "language": "python",
   "name": "python3"
  },
  "language_info": {
   "codemirror_mode": {
    "name": "ipython",
    "version": 3
   },
   "file_extension": ".py",
   "mimetype": "text/x-python",
   "name": "python",
   "nbconvert_exporter": "python",
   "pygments_lexer": "ipython3",
   "version": "3.7.11"
  }
 },
 "nbformat": 4,
 "nbformat_minor": 5
}
