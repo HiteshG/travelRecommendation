{
 "cells": [
  {
   "cell_type": "code",
   "execution_count": 1,
   "id": "e525c516",
   "metadata": {},
   "outputs": [],
   "source": [
    "# Import libraries\n",
    "\n",
    "import pandas as pd\n",
    "import nltk\n",
    "from nltk.tokenize import RegexpTokenizer\n",
    "from sklearn.metrics.pairwise import cosine_similarity\n",
    "from sklearn.feature_extraction.text import TfidfVectorizer\n",
    "from sklearn.feature_extraction import text\n",
    "import re"
   ]
  },
  {
   "cell_type": "raw",
   "id": "44ddf943",
   "metadata": {},
   "source": [
    "# Data Description\n",
    "Processed_country have following column \n",
    "name, continent, review(scraped from website using scraping_data code),\n",
    "terrain(Excel Vlookup) - https://www.nationmaster.com/country-info/stats/Geography/Terrain#2013\n",
    "Zones(Excel Vlookup) - https://www.google.com/maps/d/edit?mid=1Npbd1eeMQad4S6xoBNBdZglMZux5oE6n&usp=sharing"
   ]
  },
  {
   "cell_type": "code",
   "execution_count": 2,
   "id": "448b4445",
   "metadata": {},
   "outputs": [],
   "source": [
    "df = pd.read_csv(\"./processed_country.csv\", encoding='latin-1')"
   ]
  },
  {
   "cell_type": "code",
   "execution_count": 3,
   "id": "3fd4f13d",
   "metadata": {},
   "outputs": [
    {
     "data": {
      "text/html": [
       "<div>\n",
       "<style scoped>\n",
       "    .dataframe tbody tr th:only-of-type {\n",
       "        vertical-align: middle;\n",
       "    }\n",
       "\n",
       "    .dataframe tbody tr th {\n",
       "        vertical-align: top;\n",
       "    }\n",
       "\n",
       "    .dataframe thead th {\n",
       "        text-align: right;\n",
       "    }\n",
       "</style>\n",
       "<table border=\"1\" class=\"dataframe\">\n",
       "  <thead>\n",
       "    <tr style=\"text-align: right;\">\n",
       "      <th></th>\n",
       "      <th>name</th>\n",
       "      <th>continent</th>\n",
       "      <th>review</th>\n",
       "      <th>terrain</th>\n",
       "      <th>Zones</th>\n",
       "    </tr>\n",
       "  </thead>\n",
       "  <tbody>\n",
       "    <tr>\n",
       "      <th>0</th>\n",
       "      <td>armenia</td>\n",
       "      <td>europe</td>\n",
       "      <td>It might be a small nation, but Armenia is bi...</td>\n",
       "      <td>Armenian Highland with mountains; little fores...</td>\n",
       "      <td>Non listed third country</td>\n",
       "    </tr>\n",
       "    <tr>\n",
       "      <th>1</th>\n",
       "      <td>czechrepublic</td>\n",
       "      <td>europe</td>\n",
       "      <td>A historic jewel at the heart of Europe, the ...</td>\n",
       "      <td>Bohemia in the west consists of rolling plains...</td>\n",
       "      <td>EU</td>\n",
       "    </tr>\n",
       "    <tr>\n",
       "      <th>2</th>\n",
       "      <td>chad</td>\n",
       "      <td>africa</td>\n",
       "      <td>From the natural wonders of the Sahara Desert ...</td>\n",
       "      <td>broad, arid plains in center, desert in north,...</td>\n",
       "      <td>Non listed third country</td>\n",
       "    </tr>\n",
       "    <tr>\n",
       "      <th>3</th>\n",
       "      <td>cyprus</td>\n",
       "      <td>europe</td>\n",
       "      <td>The legendary birthplace of Aphrodite, Cyprus ...</td>\n",
       "      <td>central plain with mountains to north and sout...</td>\n",
       "      <td>EU</td>\n",
       "    </tr>\n",
       "    <tr>\n",
       "      <th>4</th>\n",
       "      <td>ecuador</td>\n",
       "      <td>south-america</td>\n",
       "      <td>Tiny by South American standards, Ecuador is ...</td>\n",
       "      <td>coastal plain (costa), inter-Andean central hi...</td>\n",
       "      <td>Non listed third country</td>\n",
       "    </tr>\n",
       "  </tbody>\n",
       "</table>\n",
       "</div>"
      ],
      "text/plain": [
       "            name      continent  \\\n",
       "0        armenia         europe   \n",
       "1  czechrepublic         europe   \n",
       "2           chad         africa   \n",
       "3         cyprus         europe   \n",
       "4        ecuador  south-america   \n",
       "\n",
       "                                              review  \\\n",
       "0   It might be a small nation, but Armenia is bi...   \n",
       "1   A historic jewel at the heart of Europe, the ...   \n",
       "2  From the natural wonders of the Sahara Desert ...   \n",
       "3  The legendary birthplace of Aphrodite, Cyprus ...   \n",
       "4   Tiny by South American standards, Ecuador is ...   \n",
       "\n",
       "                                             terrain                     Zones  \n",
       "0  Armenian Highland with mountains; little fores...  Non listed third country  \n",
       "1  Bohemia in the west consists of rolling plains...                        EU  \n",
       "2  broad, arid plains in center, desert in north,...  Non listed third country  \n",
       "3  central plain with mountains to north and sout...                        EU  \n",
       "4  coastal plain (costa), inter-Andean central hi...  Non listed third country  "
      ]
     },
     "execution_count": 3,
     "metadata": {},
     "output_type": "execute_result"
    }
   ],
   "source": [
    "df.head()"
   ]
  },
  {
   "cell_type": "code",
   "execution_count": 4,
   "id": "6319f9e0",
   "metadata": {},
   "outputs": [
    {
     "data": {
      "text/plain": [
       "0       it  might  be  a  small  nation   but  armeni...\n",
       "1       a  historic  jewel  at  the  heart  of  europ...\n",
       "2      from  the  natural  wonders  of  the  sahara  ...\n",
       "3      the  legendary  birthplace  of  aphrodite   cy...\n",
       "4       tiny  by  south  american  standards   ecuado...\n",
       "                             ...                        \n",
       "192     if  it  were  an  authentic  taste  of  arabi...\n",
       "193    vast  lakes  and  wetlands   long  and  life  ...\n",
       "194    after  a  difficult  decade  or  so   stabilit...\n",
       "195    northern  ireland  distils  the  best  of  bri...\n",
       "196    guam  is  a  vibrant   tropical  paradise   co...\n",
       "Name: text, Length: 197, dtype: object"
      ]
     },
     "execution_count": 4,
     "metadata": {},
     "output_type": "execute_result"
    }
   ],
   "source": [
    "df[\"name\"] = df[\"name\"].apply(lambda x: x.lower())\n",
    "df[\"text\"] = df[\"review\"] + \" \" + df[\"terrain\"] + \" \" + df[\"continent\"]\n",
    "df[\"text\"].apply(lambda x: \" \".join(re.findall(\"[a-zA-Z]*\", x)).lower())"
   ]
  },
  {
   "cell_type": "code",
   "execution_count": 5,
   "id": "e89403a9",
   "metadata": {},
   "outputs": [],
   "source": [
    "# tokenize\n",
    "tokenizer = RegexpTokenizer(r'\\w+')\n",
    "df[\"tokenized_text\"] = df[\"text\"].apply(lambda row: tokenizer.tokenize(row))"
   ]
  },
  {
   "cell_type": "code",
   "execution_count": 6,
   "id": "42672aba",
   "metadata": {},
   "outputs": [
    {
     "name": "stderr",
     "output_type": "stream",
     "text": [
      "[nltk_data] Downloading package omw-1.4 to\n",
      "[nltk_data]     C:\\Users\\Harry\\AppData\\Roaming\\nltk_data...\n",
      "[nltk_data]   Package omw-1.4 is already up-to-date!\n"
     ]
    },
    {
     "data": {
      "text/plain": [
       "True"
      ]
     },
     "execution_count": 6,
     "metadata": {},
     "output_type": "execute_result"
    }
   ],
   "source": [
    "nltk.download('omw-1.4')"
   ]
  },
  {
   "cell_type": "code",
   "execution_count": 7,
   "id": "40f57c23",
   "metadata": {},
   "outputs": [],
   "source": [
    "# lemmatize \n",
    "wnl = nltk.WordNetLemmatizer()\n",
    "def lem(lst):\n",
    "    list1=list()\n",
    "    for i in lst : \n",
    "        list1.append(wnl.lemmatize(i))\n",
    "    return list1\n",
    "\n",
    "df[\"lemmatized_text\"]=df[\"tokenized_text\"].apply(lambda x : lem(x))"
   ]
  },
  {
   "cell_type": "code",
   "execution_count": 8,
   "id": "49f15ae8",
   "metadata": {},
   "outputs": [],
   "source": [
    "# preparation for stopwords to be used in TfidfVectorizer\n",
    "\n",
    "my_additional_stop_words = ['acute', 'good', 'great', 'really', 'just', 'nice', \n",
    "                            'like', 'day', 'beautiful', 'visit', 'time', 'don',\n",
    "                            'did', 'place', 'didn', 'did', 'tour', 'sydney','pm', 'the',\n",
    "                            'lot', '00', 'inside', 'doesn','going','mostly', 'origin',\n",
    "                            'right', '15']\n",
    "stop_words = text.ENGLISH_STOP_WORDS.union(my_additional_stop_words)\n",
    "\n",
    "tfidf_vectorizer = TfidfVectorizer(stop_words=stop_words, strip_accents='unicode', norm='l2',lowercase=True)"
   ]
  },
  {
   "cell_type": "code",
   "execution_count": 9,
   "id": "5c10b411",
   "metadata": {},
   "outputs": [
    {
     "data": {
      "text/plain": [
       "(197, 8326)"
      ]
     },
     "execution_count": 9,
     "metadata": {},
     "output_type": "execute_result"
    }
   ],
   "source": [
    "X=[\" \".join(text) for text in df[\"lemmatized_text\"].values]\n",
    "tfidf_matrix=tfidf_vectorizer.fit_transform(X)\n",
    "tfidf_matrix.shape"
   ]
  },
  {
   "cell_type": "code",
   "execution_count": 10,
   "id": "525363db",
   "metadata": {},
   "outputs": [],
   "source": [
    "similarity_matrix = cosine_similarity(tfidf_matrix, tfidf_matrix)"
   ]
  },
  {
   "cell_type": "code",
   "execution_count": null,
   "id": "af45fb95",
   "metadata": {},
   "outputs": [],
   "source": []
  },
  {
   "cell_type": "code",
   "execution_count": 11,
   "id": "8383cf23",
   "metadata": {},
   "outputs": [
    {
     "data": {
      "text/plain": [
       "name\n",
       "armenia              0\n",
       "czechrepublic        1\n",
       "chad                 2\n",
       "cyprus               3\n",
       "ecuador              4\n",
       "                  ... \n",
       "yemen              192\n",
       "zambia             193\n",
       "zimbabwe           194\n",
       "northernireland    195\n",
       "guam               196\n",
       "Length: 197, dtype: int64"
      ]
     },
     "execution_count": 11,
     "metadata": {},
     "output_type": "execute_result"
    }
   ],
   "source": [
    "# Create a pandas series with countries as indices and indices as series values \n",
    "indices = pd.Series(df.index, index=df['name']).drop_duplicates()\n",
    "indices"
   ]
  },
  {
   "cell_type": "code",
   "execution_count": 12,
   "id": "f3296b1b",
   "metadata": {},
   "outputs": [],
   "source": [
    "title='india'\n",
    "\n",
    "# Get the index corresponding to country name\n",
    "index = indices[title]\n",
    "\n",
    "# Get the cosine similarity scores \n",
    "similarity_scores = list(enumerate(similarity_matrix[index]))\n",
    "\n",
    "# Sort the similarity scores in descending order\n",
    "sorted_similarity_scores = sorted(similarity_scores, key=lambda x: x[1], reverse=True)\n",
    "\n",
    "# Top-10 most similar country scores\n",
    "top_10_country_scores = sorted_similarity_scores[1:11]"
   ]
  },
  {
   "cell_type": "code",
   "execution_count": 13,
   "id": "15c332b6",
   "metadata": {},
   "outputs": [
    {
     "data": {
      "text/plain": [
       "167       srilanka\n",
       "124          nepal\n",
       "163    southafrica\n",
       "121        myanmar\n",
       "133       pakistan\n",
       "39          bhutan\n",
       "164     southkorea\n",
       "68           ghana\n",
       "44           china\n",
       "16          belize\n",
       "Name: name, dtype: object"
      ]
     },
     "execution_count": 13,
     "metadata": {},
     "output_type": "execute_result"
    }
   ],
   "source": [
    "# Get movie indices\n",
    "top_10_country_indices=[]\n",
    "for i in top_10_country_scores:\n",
    "    top_10_country_indices.append(i[0])\n",
    "    \n",
    "# Top 10 recommende movie\n",
    "df['name'].iloc[top_10_country_indices]"
   ]
  },
  {
   "cell_type": "code",
   "execution_count": null,
   "id": "f3807bde",
   "metadata": {},
   "outputs": [],
   "source": []
  }
 ],
 "metadata": {
  "interpreter": {
   "hash": "a9d44cab12bccfce25a2c3d99598798d56619c01d62e58fa54f5ab34fff2acc2"
  },
  "kernelspec": {
   "display_name": "Python 3 (ipykernel)",
   "language": "python",
   "name": "python3"
  },
  "language_info": {
   "codemirror_mode": {
    "name": "ipython",
    "version": 3
   },
   "file_extension": ".py",
   "mimetype": "text/x-python",
   "name": "python",
   "nbconvert_exporter": "python",
   "pygments_lexer": "ipython3",
   "version": "3.7.11"
  }
 },
 "nbformat": 4,
 "nbformat_minor": 5
}
