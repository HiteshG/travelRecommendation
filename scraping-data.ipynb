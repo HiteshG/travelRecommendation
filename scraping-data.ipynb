{
 "cells": [
  {
   "cell_type": "code",
   "execution_count": null,
   "id": "e11738cd",
   "metadata": {},
   "outputs": [],
   "source": [
    "# import libraries\n",
    "import pandas as pd\n",
    "import requests\n",
    "from bs4 import BeautifulSoup as bs"
   ]
  },
  {
   "cell_type": "code",
   "execution_count": null,
   "id": "786d0aa9",
   "metadata": {},
   "outputs": [],
   "source": [
    "# Reading csv with country and continents\n",
    "country_list = pd.read_csv(\"./country.csv\",  encoding='latin-1')"
   ]
  },
  {
   "cell_type": "code",
   "execution_count": null,
   "id": "a9c4acad",
   "metadata": {},
   "outputs": [],
   "source": [
    "country_list.head()"
   ]
  },
  {
   "cell_type": "code",
   "execution_count": null,
   "id": "21bef9ca",
   "metadata": {},
   "outputs": [],
   "source": [
    "# Transforming both name and continent to lowercase\n",
    "country_list[\"name\"] = country_list[\"name\"].apply(lambda x: str.lower(x))\n",
    "country_list[\"continent\"] = country_list[\"continent\"].apply(lambda x: str.lower(x))"
   ]
  },
  {
   "cell_type": "code",
   "execution_count": null,
   "id": "c403f70c",
   "metadata": {},
   "outputs": [],
   "source": [
    "\"\"\"\n",
    "    Input: dataframe\n",
    "    Output: Dictionary\n",
    "    \n",
    "    Working: \n",
    "    1. Replace spaces in name with \"-\"\n",
    "    2. Create url by joining base_url, continent and country\n",
    "    3. Using beautifulSoup scrap the page, specifically <p> tag from 4:10 \n",
    "    4. Save tags to dict\n",
    "\"\"\"\n",
    "\n",
    "def data_scraping(df):\n",
    "    \n",
    "    review_dict = {}\n",
    "    \n",
    "    for i in range(len(df)):\n",
    "        \n",
    "        name = df.iloc[i][\"name\"]\n",
    "        processed_name = name.replace(\" \", \"-\")\n",
    "        continent = df.iloc[i][\"continent\"]\n",
    "\n",
    "        base_url = \"https://www.worldtravelguide.net/guides/\"\n",
    "        url = base_url + continent + \"/\"+ processed_name +\"/\"\n",
    "\n",
    "        response = requests.get(url)\n",
    "        soup = bs(response.content, 'html.parser')\n",
    "        rev_div = soup.findAll(\"p\")[4:10]\n",
    "\n",
    "        review = []\n",
    "        for j in range(len(rev_div)):\n",
    "            review.append(rev_div[j].text)\n",
    "        \n",
    "        final_review = ' '.join(map(str, review))\n",
    "          \n",
    "        review_dict[name] = final_review\n",
    "        \n",
    "    return review_dict"
   ]
  },
  {
   "cell_type": "code",
   "execution_count": null,
   "id": "8aa43a16",
   "metadata": {},
   "outputs": [],
   "source": [
    "# Run data_scraping function and get dict\n",
    "review_dict = data_scraping(country_list)\n",
    "len(review_dict)"
   ]
  },
  {
   "cell_type": "code",
   "execution_count": null,
   "id": "558701dd",
   "metadata": {},
   "outputs": [],
   "source": [
    "# Create column and save reviews and check for NaN values\n",
    "country_list[\"review\"]  = country_list[\"name\"].map(review_dict)\n",
    "country_list[\"review\"].isna()"
   ]
  },
  {
   "cell_type": "code",
   "execution_count": null,
   "id": "63c9a852",
   "metadata": {},
   "outputs": [],
   "source": [
    "# Save dataframe with fields name, continent and reviews\n",
    "country_list.to_csv(\"processed_country.csv\", index = False)"
   ]
  }
 ],
 "metadata": {
  "kernelspec": {
   "display_name": "Python 3 (ipykernel)",
   "language": "python",
   "name": "python3"
  },
  "language_info": {
   "codemirror_mode": {
    "name": "ipython",
    "version": 3
   },
   "file_extension": ".py",
   "mimetype": "text/x-python",
   "name": "python",
   "nbconvert_exporter": "python",
   "pygments_lexer": "ipython3",
   "version": "3.7.11"
  }
 },
 "nbformat": 4,
 "nbformat_minor": 5
}
